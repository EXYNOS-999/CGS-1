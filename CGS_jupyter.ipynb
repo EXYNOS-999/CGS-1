{
 "cells": [
  {
   "cell_type": "code",
   "execution_count": 3,
   "metadata": {},
   "outputs": [],
   "source": [
    "from parcels import FieldSet, ParticleSet, Variable, JITParticle, ScipyParticle, AdvectionRK4, plotTrajectoriesFile\n",
    "from parcels import Field\n",
    "import parcels\n",
    "import numpy as np\n",
    "import math\n",
    "from datetime import timedelta\n",
    "from operator import attrgetter"
   ]
  },
  {
   "cell_type": "markdown",
   "metadata": {},
   "source": [
    "### Start with defining fields"
   ]
  },
  {
   "cell_type": "code",
   "execution_count": 9,
   "metadata": {},
   "outputs": [],
   "source": [
    "class CGS_field:\n",
    "    \"\"\"CGS field that simulates the environmental flows.\n",
    "    The field can be initialized by the velocities of flows in given positions.\n",
    "    \"\"\"\n",
    "    \n",
    "    def __init__(self,x_vel,y_vel):\n",
    "        \"\"\"CGS field can be initialized by assigning the velocities in given positions.\n",
    "        The velocities should be in the form of 2-dimensional numpy arrays, with postive values pointing to right or up.\n",
    "        For example, if x_vel is [[1,1,1,1],[5,5,5,5]], it means that the velocities in x direction are 1 when y is 1, and \n",
    "        are 5 when y is 2. If the velocities are negative, it means the velocities go in negative x direction(to the left).\n",
    "        \"\"\"\n",
    "        \n",
    "        ## make sure the dimensions of x_vel are equal to those of y_vel\n",
    "        if x_vel.shape != y_vel.shape:\n",
    "            raise RuntimeError(\"The dimensions of x_vel should be the same as those of y_vel\")\n",
    "        \n",
    "        self.x_velocities = x_vel\n",
    "        self.y_velocities = y_vel\n",
    "        \n",
    "        ## initialize parcels fields with lon and lat values set according to the len(x_vel) and len(y_vel)\n",
    "        field_x = parcels.Field(name='U',data=x_vel,lon=np.linspace(start=0,stop=1,num=len(x_vel[0])),\\\n",
    "                                lat=np.linspace(start=0,stop=1,num=len(x_vel)))\n",
    "        field_y = parcels.Field(name='V',data=y_vel,lon=np.linspace(start=0,stop=1,num=len(y_vel[0])),\\\n",
    "                                lat=np.linspace(start=0,stop=1,num=len(y_vel)))\n",
    "        \n",
    "        ## initialize parcels fieldsets with fields created above\n",
    "        fieldset = FieldSet(U=field_x,V=field_y)\n",
    "        \n",
    "        self.fieldset = fieldset"
   ]
  },
  {
   "cell_type": "code",
   "execution_count": null,
   "metadata": {},
   "outputs": [],
   "source": []
  }
 ],
 "metadata": {
  "kernelspec": {
   "display_name": "Python 2",
   "language": "python",
   "name": "python2"
  },
  "language_info": {
   "codemirror_mode": {
    "name": "ipython",
    "version": 2
   },
   "file_extension": ".py",
   "mimetype": "text/x-python",
   "name": "python",
   "nbconvert_exporter": "python",
   "pygments_lexer": "ipython2",
   "version": "2.7.15"
  }
 },
 "nbformat": 4,
 "nbformat_minor": 2
}
