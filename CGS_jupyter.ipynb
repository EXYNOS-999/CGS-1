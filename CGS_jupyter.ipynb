{
 "cells": [
  {
   "cell_type": "code",
   "execution_count": 3,
   "metadata": {},
   "outputs": [],
   "source": [
    "from parcels import FieldSet, ParticleSet, Variable, JITParticle, ScipyParticle, AdvectionRK4, plotTrajectoriesFile\n",
    "from parcels import Field\n",
    "import parcels\n",
    "import numpy as np\n",
    "import math\n",
    "from datetime import timedelta\n",
    "from operator import attrgetter\n",
    "\n",
    "##should save import parcels only in the future"
   ]
  },
  {
   "cell_type": "markdown",
   "metadata": {},
   "source": [
    "### Start with defining fields"
   ]
  },
  {
   "cell_type": "code",
   "execution_count": 17,
   "metadata": {},
   "outputs": [],
   "source": [
    "class CGS_field:\n",
    "    \"\"\"CGS flow field that simulates the environmental flows.\n",
    "    The field can be initialized by the velocities of flows in given positions.\n",
    "    \"\"\"\n",
    "    \n",
    "    def __init__(self,x_vel,y_vel):\n",
    "        \"\"\"CGS field can be initialized by assigning the velocities in given positions.\n",
    "        The velocities should be in the form of 2-dimensional numpy arrays, with postive values pointing to right or up.\n",
    "        For example, if x_vel is [[1,1,1,1],[5,5,5,5]], it means that the velocities in x direction are 1 when y is 1, and \n",
    "        are 5 when y is 2. If the velocities are negative, it means the velocities go in negative x direction(to the left).\n",
    "        \"\"\"\n",
    "        \n",
    "        ## make sure the dimensions of x_vel are equal to those of y_vel\n",
    "        if x_vel.shape != y_vel.shape:\n",
    "            raise RuntimeError(\"The dimensions of x_vel should be the same as those of y_vel\")\n",
    "        \n",
    "        self.x_velocities = x_vel\n",
    "        self.y_velocities = y_vel\n",
    "        \n",
    "        ## initialize parcels fields with lon and lat values set according to the len(x_vel) and len(y_vel)\n",
    "        field_x = parcels.Field(name='U',data=x_vel,lon=np.linspace(start=0,stop=1,num=len(x_vel[0])),\\\n",
    "                                lat=np.linspace(start=0,stop=1,num=len(x_vel)))\n",
    "        field_y = parcels.Field(name='V',data=y_vel,lon=np.linspace(start=0,stop=1,num=len(y_vel[0])),\\\n",
    "                                lat=np.linspace(start=0,stop=1,num=len(y_vel)))\n",
    "        \n",
    "        ## initialize parcels fieldsets with fields created above\n",
    "        fieldset = parcels.FieldSet(U=field_x,V=field_y)\n",
    "        \n",
    "        self.fieldset = fieldset\n",
    "        \n",
    "    def deploy_kernels(self,x_pos,y_pos):\n",
    "        \"\"\"Deploy kernels on the flow field created above. \n",
    "        The postions of kernels in x and y directions should be provided in 1-dimension numpy arrays respectively.\n",
    "        For example, if two kernels are created, and the x_pos and y_pos are set as [1,2] and [3,4], then\n",
    "        the positions of the kernels will be at [1,3] and [2,4] respectively.\n",
    "        \"\"\"\n",
    "        \n",
    "        ## the kernels should be customized in the future\n",
    "        pset = parcels.ParticleSet(fieldset=self.fieldset,pclass=parcels.ScipyParticle,lon=x_pos,lat=y_pos)\n",
    "        \n",
    "        self.pset = pset\n",
    "    \n",
    "    def simulate(self,time_length,period):\n",
    "        \"\"\"Do the simulation.\n",
    "        The total time length and period of simulation should be provided.\n",
    "        \"\"\"\n",
    "        \n",
    "        ## do the simulation with time information provided above. outputfile updated with period provided above.\n",
    "        self.pset.execute(pyfunc=AdvectionRK4,runtime=timedelta(minutes=time_length),dt=timedelta(minutes=period),\\\n",
    "                         outputfile=pset.ParticleFile(name=\"CGS_simulation\", outputdt=timedelta(minutes=period)))\n",
    "        \n",
    "    def plot_trajectories(self,file_name,mode):\n",
    "        \"\"\"Plot the trajectories of the kernels within the flow field.\n",
    "        Can choose the moving mode to show the animated trajectories.\n",
    "        \"\"\"\n",
    "        \n",
    "        if mode == 'moving':\n",
    "            parcels.plotTrajectoriesFile(filename=file_name, mode='movie2d_notebook')\n",
    "        else:\n",
    "            parcels.plotTrajectoriesFile(filename=file_name)"
   ]
  },
  {
   "cell_type": "code",
   "execution_count": null,
   "metadata": {},
   "outputs": [],
   "source": []
  }
 ],
 "metadata": {
  "kernelspec": {
   "display_name": "Python 2",
   "language": "python",
   "name": "python2"
  },
  "language_info": {
   "codemirror_mode": {
    "name": "ipython",
    "version": 2
   },
   "file_extension": ".py",
   "mimetype": "text/x-python",
   "name": "python",
   "nbconvert_exporter": "python",
   "pygments_lexer": "ipython2",
   "version": "2.7.15"
  }
 },
 "nbformat": 4,
 "nbformat_minor": 2
}
